{
 "metadata": {
  "language_info": {
   "codemirror_mode": {
    "name": "ipython",
    "version": 3
   },
   "file_extension": ".py",
   "mimetype": "text/x-python",
   "name": "python",
   "nbconvert_exporter": "python",
   "pygments_lexer": "ipython3",
   "version": "3.8.6-final"
  },
  "orig_nbformat": 2,
  "kernelspec": {
   "name": "python3",
   "display_name": "Python 3.8.6 64-bit",
   "metadata": {
    "interpreter": {
     "hash": "ca2ce40f3a51f686c39dc322c9771bafaea02d8496fef06ffcaf5bb560596e5c"
    }
   }
  }
 },
 "nbformat": 4,
 "nbformat_minor": 2,
 "cells": [
  {
   "cell_type": "code",
   "execution_count": 1,
   "metadata": {},
   "outputs": [],
   "source": [
    "import pandas as pd\n",
    "from sklearn.model selection\n",
    "from scipy import stats\n",
    "import numpy as np"
   ]
  },
  {
   "cell_type": "code",
   "execution_count": 12,
   "metadata": {},
   "outputs": [],
   "source": [
    "train = pd.read_csv('clean_train.csv')"
   ]
  },
  {
   "cell_type": "code",
   "execution_count": 19,
   "metadata": {},
   "outputs": [],
   "source": [
    "x = train.iloc[:, :-1]\n",
    "y = train.iloc[:, -1]"
   ]
  },
  {
   "cell_type": "code",
   "execution_count": 48,
   "metadata": {
    "tags": []
   },
   "outputs": [
    {
     "output_type": "stream",
     "name": "stdout",
     "text": [
      "['Stall_no', 'Market_Category', 'Loyalty_customer', 'Product_Category', 'Grade', 'Discount_avail']\n"
     ]
    }
   ],
   "source": [
    "x = list(train.columns[:7])\n",
    "x.remove('Demand')\n",
    "print(x)\n",
    "for i in x:\n",
    "    train[x] = train[x].astype('category')"
   ]
  },
  {
   "cell_type": "code",
   "execution_count": 91,
   "metadata": {},
   "outputs": [
    {
     "output_type": "stream",
     "name": "stdout",
     "text": [
      "['charges_1', 'charges_2 (%)', 'Minimum_price', 'Maximum_price', 'Selling_Price', 'Demand']\n"
     ]
    }
   ],
   "source": [
    "numeric_ = list(train.columns[7:])\n",
    "# numeric_.remove('Demand')\n",
    "# numeric_.remove('charges_2 (%)')\n",
    "numeric_.append('Demand')\n",
    "print(numeric_)"
   ]
  },
  {
   "cell_type": "code",
   "execution_count": 65,
   "metadata": {},
   "outputs": [
    {
     "output_type": "stream",
     "name": "stdout",
     "text": [
      "charges_1         149.000000\nMinimum_price    2814.000000\nMaximum_price    4166.000000\nSelling_Price    3707.268408\ndtype: float64\n"
     ]
    }
   ],
   "source": [
    "z = np.abs(stats.zscore(train[numeric_]))\n",
    "txx = train[(z < 3).all(axis=1)]"
   ]
  },
  {
   "cell_type": "code",
   "execution_count": null,
   "metadata": {},
   "outputs": [],
   "source": [
    "train = txx"
   ]
  },
  {
   "cell_type": "code",
   "execution_count": 92,
   "metadata": {},
   "outputs": [
    {
     "output_type": "stream",
     "name": "stdout",
     "text": [
      "<class 'pandas.core.frame.DataFrame'>\nInt64Index: 6188 entries, 0 to 6367\nData columns (total 12 columns):\n #   Column            Non-Null Count  Dtype   \n---  ------            --------------  -----   \n 0   Stall_no          6188 non-null   category\n 1   Market_Category   6188 non-null   category\n 2   Loyalty_customer  6188 non-null   category\n 3   Product_Category  6188 non-null   category\n 4   Grade             6188 non-null   category\n 5   Demand            6188 non-null   int64   \n 6   Discount_avail    6188 non-null   category\n 7   charges_1         6188 non-null   int64   \n 8   charges_2 (%)     6188 non-null   int64   \n 9   Minimum_price     6188 non-null   float64 \n 10  Maximum_price     6188 non-null   float64 \n 11  Selling_Price     6188 non-null   float64 \ndtypes: category(6), float64(3), int64(3)\nmemory usage: 396.3 KB\n"
     ]
    }
   ],
   "source": [
    "train.info()"
   ]
  },
  {
   "cell_type": "code",
   "execution_count": null,
   "metadata": {},
   "outputs": [],
   "source": []
  }
 ]
}