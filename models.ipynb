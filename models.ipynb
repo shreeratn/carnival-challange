{
 "metadata": {
  "language_info": {
   "codemirror_mode": {
    "name": "ipython",
    "version": 3
   },
   "file_extension": ".py",
   "mimetype": "text/x-python",
   "name": "python",
   "nbconvert_exporter": "python",
   "pygments_lexer": "ipython3",
   "version": "3.8.6-final"
  },
  "orig_nbformat": 2,
  "kernelspec": {
   "name": "python3",
   "display_name": "Python 3.8.6 64-bit",
   "metadata": {
    "interpreter": {
     "hash": "ca2ce40f3a51f686c39dc322c9771bafaea02d8496fef06ffcaf5bb560596e5c"
    }
   }
  }
 },
 "nbformat": 4,
 "nbformat_minor": 2,
 "cells": [
  {
   "cell_type": "code",
   "execution_count": 1,
   "metadata": {},
   "outputs": [],
   "source": [
    "import pandas as pd\n",
    "from scipy import stats\n",
    "import numpy as np"
   ]
  },
  {
   "cell_type": "code",
   "execution_count": 2,
   "metadata": {},
   "outputs": [],
   "source": [
    "train = pd.read_csv('clean_train.csv')"
   ]
  },
  {
   "cell_type": "code",
   "execution_count": 4,
   "metadata": {
    "tags": []
   },
   "outputs": [
    {
     "output_type": "stream",
     "name": "stdout",
     "text": [
      "['Stall_no', 'Market_Category', 'Loyalty_customer', 'Product_Category', 'Grade', 'Discount_avail']\n"
     ]
    }
   ],
   "source": [
    "x = list(train.columns[:7])\n",
    "x.remove('Demand')\n",
    "print(x)\n",
    "train[x] = train[x].astype('category')"
   ]
  },
  {
   "cell_type": "code",
   "execution_count": 6,
   "metadata": {},
   "outputs": [
    {
     "output_type": "stream",
     "name": "stdout",
     "text": [
      "<class 'pandas.core.frame.DataFrame'>\nRangeIndex: 6368 entries, 0 to 6367\nData columns (total 12 columns):\n #   Column            Non-Null Count  Dtype   \n---  ------            --------------  -----   \n 0   Stall_no          6368 non-null   category\n 1   Market_Category   6368 non-null   category\n 2   Loyalty_customer  6368 non-null   category\n 3   Product_Category  6368 non-null   category\n 4   Grade             6368 non-null   category\n 5   Demand            6368 non-null   int64   \n 6   Discount_avail    6368 non-null   category\n 7   charges_1         6368 non-null   int64   \n 8   charges_2 (%)     6368 non-null   int64   \n 9   Minimum_price     6368 non-null   float64 \n 10  Maximum_price     6368 non-null   float64 \n 11  Selling_Price     6368 non-null   float64 \ndtypes: category(6), float64(3), int64(3)\nmemory usage: 357.8 KB\n"
     ]
    }
   ],
   "source": [
    "train.info()"
   ]
  },
  {
   "cell_type": "code",
   "execution_count": 5,
   "metadata": {},
   "outputs": [
    {
     "output_type": "stream",
     "name": "stdout",
     "text": [
      "['charges_1', 'charges_2 (%)', 'Minimum_price', 'Maximum_price', 'Selling_Price', 'Demand']\n"
     ]
    }
   ],
   "source": [
    "numeric_ = list(train.columns[7:])\n",
    "# numeric_.remove('Demand')\n",
    "# numeric_.remove('charges_2 (%)')\n",
    "numeric_.append('Demand')\n",
    "print(numeric_)"
   ]
  },
  {
   "cell_type": "code",
   "execution_count": 6,
   "metadata": {},
   "outputs": [],
   "source": [
    "z = np.abs(stats.zscore(train[numeric_]))\n",
    "txx = train[(z < 3).all(axis=1)]"
   ]
  },
  {
   "cell_type": "code",
   "execution_count": 7,
   "metadata": {},
   "outputs": [],
   "source": [
    "train = txx"
   ]
  },
  {
   "cell_type": "code",
   "execution_count": 12,
   "metadata": {},
   "outputs": [],
   "source": [
    "x = train.iloc[:, :-1]\n",
    "y = train.iloc[:, -1]"
   ]
  },
  {
   "cell_type": "code",
   "execution_count": 76,
   "metadata": {},
   "outputs": [],
   "source": [
    "from sklearn.metrics import accuracy_score as asc \n",
    "from sklearn.model_selection import train_test_split as tts \n",
    "from sklearn.linear_model import Lasso\n",
    "from sklearn.tree import DecisionTreeRegressor\n",
    "from sklearn.ensemble import RandomForestRegressor\n",
    "from sklearn.neighbors import KNeighborsRegressor \n",
    "from sklearn.ensemble import VotingRegressor as vs"
   ]
  },
  {
   "cell_type": "code",
   "execution_count": 77,
   "metadata": {},
   "outputs": [],
   "source": [
    "seed = 21"
   ]
  },
  {
   "cell_type": "code",
   "execution_count": 78,
   "metadata": {},
   "outputs": [],
   "source": [
    "x_train, x_test, y_train, y_test = tts(x,y,test_size= 0.33, random_state= seed)\n",
    "knn = KNeighborsRegressor()\n",
    "dtr = DecisionTreeRegressor(random_state=seed)\n",
    "rfg = RandomForestRegressor(random_state=seed)\n",
    "las = Lasso(alpha=0.1, normalize = True)\n",
    "classifier = [#('Logistic Regression', lr),\n",
    "              ('KNeighborsRegressor', knn),\n",
    "              ('DecisionTreeRegressor', dtr),\n",
    "              ('RandomForestRegressor', rfg),\n",
    "              ('Lasso', las)]\n",
    "\n",
    "vreg = vs(estimators = classifier)"
   ]
  },
  {
   "cell_type": "code",
   "execution_count": 79,
   "metadata": {},
   "outputs": [
    {
     "output_type": "execute_result",
     "data": {
      "text/plain": [
       "VotingRegressor(estimators=[('KNeighborsRegressor', KNeighborsRegressor()),\n",
       "                            ('DecisionTreeRegressor',\n",
       "                             DecisionTreeRegressor(random_state=21)),\n",
       "                            ('RandomForestRegressor',\n",
       "                             RandomForestRegressor(random_state=21)),\n",
       "                            ('Lasso', Lasso(alpha=0.1, normalize=True))])"
      ]
     },
     "metadata": {},
     "execution_count": 79
    }
   ],
   "source": [
    "vreg.fit(x_train,y_train)"
   ]
  },
  {
   "cell_type": "code",
   "execution_count": 81,
   "metadata": {},
   "outputs": [
    {
     "output_type": "stream",
     "name": "stdout",
     "text": [
      "VREG :  0.9036947293734787\n"
     ]
    }
   ],
   "source": [
    "print('VREG : ',vreg.score(x_test, y_test))"
   ]
  },
  {
   "cell_type": "code",
   "execution_count": 85,
   "metadata": {},
   "outputs": [],
   "source": [
    "import pickle"
   ]
  },
  {
   "cell_type": "code",
   "execution_count": 87,
   "metadata": {},
   "outputs": [],
   "source": [
    "Pkl_Filename = \"carnival_model.pkl\"  \n",
    "\n",
    "with open(Pkl_Filename, 'wb') as file:  \n",
    "    pickle.dump(vreg, file)"
   ]
  },
  {
   "cell_type": "code",
   "execution_count": 6,
   "metadata": {},
   "outputs": [
    {
     "output_type": "stream",
     "name": "stdout",
     "text": [
      "<class 'pandas.core.frame.DataFrame'>\nRangeIndex: 6368 entries, 0 to 6367\nData columns (total 12 columns):\n #   Column            Non-Null Count  Dtype   \n---  ------            --------------  -----   \n 0   Stall_no          6368 non-null   category\n 1   Market_Category   6368 non-null   category\n 2   Loyalty_customer  6368 non-null   category\n 3   Product_Category  6368 non-null   category\n 4   Grade             6368 non-null   category\n 5   Demand            6368 non-null   int64   \n 6   Discount_avail    6368 non-null   category\n 7   charges_1         6368 non-null   int64   \n 8   charges_2 (%)     6368 non-null   int64   \n 9   Minimum_price     6368 non-null   float64 \n 10  Maximum_price     6368 non-null   float64 \n 11  Selling_Price     6368 non-null   float64 \ndtypes: category(6), float64(3), int64(3)\nmemory usage: 357.8 KB\n"
     ]
    }
   ],
   "source": [
    "train.info()"
   ]
  },
  {
   "cell_type": "code",
   "execution_count": null,
   "metadata": {},
   "outputs": [],
   "source": []
  }
 ]
}