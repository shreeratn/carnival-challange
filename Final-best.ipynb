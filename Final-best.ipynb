{
 "cells": [
  {
   "cell_type": "code",
   "execution_count": 1,
   "metadata": {
    "ExecuteTime": {
     "end_time": "2020-12-03T11:13:19.180621Z",
     "start_time": "2020-12-03T11:13:18.851296Z"
    }
   },
   "outputs": [],
   "source": [
    "import numpy as np\n",
    "import pandas as pd\n",
    "data=pd.read_csv(\"train.csv\")"
   ]
  },
  {
   "cell_type": "code",
   "execution_count": 2,
   "metadata": {
    "ExecuteTime": {
     "end_time": "2020-12-03T11:13:19.196978Z",
     "start_time": "2020-12-03T11:13:19.182622Z"
    }
   },
   "outputs": [],
   "source": [
    "col_imp = ['Stall_no','Minimum_price','Maximum_price', 'Discount_avail', 'charges_1', 'charges_2 (%)']\n",
    "for i in col_imp:\n",
    "    data[i] = data[i].fillna(data[i].mean())"
   ]
  },
  {
   "cell_type": "code",
   "execution_count": 3,
   "metadata": {
    "ExecuteTime": {
     "end_time": "2020-12-03T11:13:19.435145Z",
     "start_time": "2020-12-03T11:13:19.198579Z"
    }
   },
   "outputs": [],
   "source": [
    "cat = dict(zip(data['Product_Category'].unique(),[i for i in range(10)]))\n",
    "data['Product_Category'] = data['Product_Category'].map(cat)"
   ]
  },
  {
   "cell_type": "code",
   "execution_count": 4,
   "metadata": {
    "ExecuteTime": {
     "end_time": "2020-12-03T11:13:19.706538Z",
     "start_time": "2020-12-03T11:13:19.437148Z"
    }
   },
   "outputs": [],
   "source": [
    "data['Loyalty_customer'] = data['Loyalty_customer'].map({'Yes':1, 'No ':0})"
   ]
  },
  {
   "cell_type": "code",
   "execution_count": 5,
   "metadata": {
    "ExecuteTime": {
     "end_time": "2020-12-03T11:13:20.012318Z",
     "start_time": "2020-12-03T11:13:19.707343Z"
    }
   },
   "outputs": [],
   "source": [
    "data['Market_Category'] = (data['Market_Category'] > 275).astype(int)"
   ]
  },
  {
   "cell_type": "code",
   "execution_count": 6,
   "metadata": {
    "ExecuteTime": {
     "end_time": "2020-12-03T11:13:20.299733Z",
     "start_time": "2020-12-03T11:13:20.013320Z"
    }
   },
   "outputs": [],
   "source": [
    "data['charges_1'] = (data['charges_1'] > 410).astype(int)"
   ]
  },
  {
   "cell_type": "code",
   "execution_count": 7,
   "metadata": {
    "ExecuteTime": {
     "end_time": "2020-12-03T11:13:20.490020Z",
     "start_time": "2020-12-03T11:13:20.301728Z"
    }
   },
   "outputs": [],
   "source": [
    "data.dropna(subset=['Selling_Price'], inplace=True)"
   ]
  },
  {
   "cell_type": "code",
   "execution_count": 8,
   "metadata": {
    "ExecuteTime": {
     "end_time": "2020-12-03T11:13:20.634650Z",
     "start_time": "2020-12-03T11:13:20.493017Z"
    }
   },
   "outputs": [
    {
     "data": {
      "text/plain": [
       "Product_id            0\n",
       "Stall_no              0\n",
       "instock_date          0\n",
       "Market_Category       0\n",
       "Customer_name       207\n",
       "Loyalty_customer      0\n",
       "Product_Category      0\n",
       "Grade                 0\n",
       "Demand                0\n",
       "Discount_avail        0\n",
       "charges_1             0\n",
       "charges_2 (%)         0\n",
       "Minimum_price         0\n",
       "Maximum_price         0\n",
       "Selling_Price         0\n",
       "dtype: int64"
      ]
     },
     "execution_count": 8,
     "metadata": {},
     "output_type": "execute_result"
    }
   ],
   "source": [
    "data.isnull().sum()"
   ]
  },
  {
   "cell_type": "code",
   "execution_count": 9,
   "metadata": {
    "ExecuteTime": {
     "end_time": "2020-12-03T11:13:20.983805Z",
     "start_time": "2020-12-03T11:13:20.636605Z"
    }
   },
   "outputs": [],
   "source": [
    "# 'Grade','charges_1', \n",
    "in_X = ['Stall_no','Minimum_price','Maximum_price','Loyalty_customer','Product_Category',\n",
    "        'Market_Category', 'Discount_avail', 'charges_2 (%)']\n",
    "in_Y = ['Selling_Price']"
   ]
  },
  {
   "cell_type": "code",
   "execution_count": 10,
   "metadata": {
    "ExecuteTime": {
     "end_time": "2020-12-03T11:13:21.693199Z",
     "start_time": "2020-12-03T11:13:20.984810Z"
    }
   },
   "outputs": [],
   "source": [
    "from sklearn.model_selection import train_test_split,KFold,cross_val_score,GridSearchCV,RandomizedSearchCV\n",
    "x=data[in_X]\n",
    "y=data[in_Y]\n",
    "xr,xt,yr,yt=train_test_split(x,y,test_size=0.33)"
   ]
  },
  {
   "cell_type": "code",
   "execution_count": 11,
   "metadata": {
    "ExecuteTime": {
     "end_time": "2020-12-03T11:13:21.881418Z",
     "start_time": "2020-12-03T11:13:21.695310Z"
    }
   },
   "outputs": [],
   "source": [
    "from sklearn.ensemble import RandomForestRegressor\n",
    "from xgboost import XGBRegressor\n",
    "from lightgbm import LGBMRegressor\n",
    "from sklearn.metrics import r2_score,mean_squared_error,mean_squared_log_error,make_scorer\n",
    "from sklearn.pipeline import make_pipeline\n",
    "from sklearn.tree import ExtraTreeRegressor"
   ]
  },
  {
   "cell_type": "code",
   "execution_count": 12,
   "metadata": {
    "ExecuteTime": {
     "end_time": "2020-12-03T11:13:29.634806Z",
     "start_time": "2020-12-03T11:13:21.882563Z"
    }
   },
   "outputs": [
    {
     "name": "stdout",
     "output_type": "stream",
     "text": [
      "Pipeline(steps=[('randomforestregressor',\n",
      "                 RandomForestRegressor(n_estimators=200, n_jobs=-1))])\n"
     ]
    },
    {
     "name": "stderr",
     "output_type": "stream",
     "text": [
      "C:\\Users\\shree\\AppData\\Roaming\\Python\\Python38\\site-packages\\sklearn\\pipeline.py:335: DataConversionWarning: A column-vector y was passed when a 1d array was expected. Please change the shape of y to (n_samples,), for example using ravel().\n",
      "  self._final_estimator.fit(Xt, y, **fit_params_last_step)\n",
      "C:\\Users\\shree\\AppData\\Roaming\\Python\\Python38\\site-packages\\sklearn\\pipeline.py:335: DataConversionWarning: A column-vector y was passed when a 1d array was expected. Please change the shape of y to (n_samples,), for example using ravel().\n",
      "  self._final_estimator.fit(Xt, y, **fit_params_last_step)\n",
      "C:\\Users\\shree\\AppData\\Roaming\\Python\\Python38\\site-packages\\sklearn\\pipeline.py:335: DataConversionWarning: A column-vector y was passed when a 1d array was expected. Please change the shape of y to (n_samples,), for example using ravel().\n",
      "  self._final_estimator.fit(Xt, y, **fit_params_last_step)\n",
      "C:\\Users\\shree\\AppData\\Roaming\\Python\\Python38\\site-packages\\sklearn\\pipeline.py:335: DataConversionWarning: A column-vector y was passed when a 1d array was expected. Please change the shape of y to (n_samples,), for example using ravel().\n",
      "  self._final_estimator.fit(Xt, y, **fit_params_last_step)\n",
      "C:\\Users\\shree\\AppData\\Roaming\\Python\\Python38\\site-packages\\sklearn\\pipeline.py:335: DataConversionWarning: A column-vector y was passed when a 1d array was expected. Please change the shape of y to (n_samples,), for example using ravel().\n",
      "  self._final_estimator.fit(Xt, y, **fit_params_last_step)\n",
      "C:\\Users\\shree\\AppData\\Roaming\\Python\\Python38\\site-packages\\sklearn\\pipeline.py:335: DataConversionWarning: A column-vector y was passed when a 1d array was expected. Please change the shape of y to (n_samples,), for example using ravel().\n",
      "  self._final_estimator.fit(Xt, y, **fit_params_last_step)\n"
     ]
    },
    {
     "name": "stdout",
     "output_type": "stream",
     "text": [
      "[0.94979417 0.96271599 0.98161915 0.96290538 0.96541799]\n",
      "Score : 0.9965557006336223\n",
      "29752.58701820405\n"
     ]
    }
   ],
   "source": [
    "mod=RandomForestRegressor(n_estimators=200, n_jobs=-1)\n",
    "model=make_pipeline(mod)\n",
    "print(model)\n",
    "kfold=KFold(n_splits=5)\n",
    "model.fit(x,y)\n",
    "score=cross_val_score(model,x,y,cv=kfold)\n",
    "print(score)\n",
    "yp=model.predict(xt)\n",
    "print('Score :',r2_score(yt,yp))\n",
    "print(mean_squared_error(yt,yp))\n",
    "# print(mean_squared_log_error(yt,yp))"
   ]
  },
  {
   "cell_type": "code",
   "execution_count": 13,
   "metadata": {
    "ExecuteTime": {
     "end_time": "2020-12-03T11:13:29.666286Z",
     "start_time": "2020-12-03T11:13:29.636763Z"
    }
   },
   "outputs": [],
   "source": [
    "test = pd.read_csv('test.csv')"
   ]
  },
  {
   "cell_type": "code",
   "execution_count": 14,
   "metadata": {
    "ExecuteTime": {
     "end_time": "2020-12-03T11:13:29.759195Z",
     "start_time": "2020-12-03T11:13:29.667286Z"
    }
   },
   "outputs": [],
   "source": [
    "cat = dict(zip(test['Product_Category'].unique(),[i for i in range(10)]))\n",
    "test['Product_Category'] = test['Product_Category'].map(cat)"
   ]
  },
  {
   "cell_type": "code",
   "execution_count": 15,
   "metadata": {
    "ExecuteTime": {
     "end_time": "2020-12-03T11:13:29.837783Z",
     "start_time": "2020-12-03T11:13:29.760789Z"
    }
   },
   "outputs": [],
   "source": [
    "test['Loyalty_customer'] = test['Loyalty_customer'].map({'Yes':1, 'No ':0})"
   ]
  },
  {
   "cell_type": "code",
   "execution_count": 16,
   "metadata": {
    "ExecuteTime": {
     "end_time": "2020-12-03T11:13:29.917024Z",
     "start_time": "2020-12-03T11:13:29.839781Z"
    }
   },
   "outputs": [],
   "source": [
    "test['Market_Category'] = (test['Market_Category'] > 275).astype(int)"
   ]
  },
  {
   "cell_type": "code",
   "execution_count": 17,
   "metadata": {
    "ExecuteTime": {
     "end_time": "2020-12-03T11:13:29.996823Z",
     "start_time": "2020-12-03T11:13:29.917955Z"
    }
   },
   "outputs": [],
   "source": [
    "test['charges_1'] = (test['charges_1'] > 410).astype(int)"
   ]
  },
  {
   "cell_type": "code",
   "execution_count": 18,
   "metadata": {
    "ExecuteTime": {
     "end_time": "2020-12-03T11:13:30.074547Z",
     "start_time": "2020-12-03T11:13:29.998740Z"
    }
   },
   "outputs": [],
   "source": [
    "col_imp = ['Stall_no','Minimum_price','Maximum_price', 'Discount_avail', 'charges_1', 'charges_2 (%)']\n",
    "for i in col_imp:\n",
    "    test[i] = test[i].fillna(test[i].mean())"
   ]
  },
  {
   "cell_type": "code",
   "execution_count": 19,
   "metadata": {
    "ExecuteTime": {
     "end_time": "2020-12-03T11:13:30.169165Z",
     "start_time": "2020-12-03T11:13:30.076542Z"
    }
   },
   "outputs": [],
   "source": [
    "test_x = test[in_X]"
   ]
  },
  {
   "cell_type": "code",
   "execution_count": 20,
   "metadata": {
    "ExecuteTime": {
     "end_time": "2020-12-03T11:13:30.295715Z",
     "start_time": "2020-12-03T11:13:30.170146Z"
    }
   },
   "outputs": [],
   "source": [
    "prediction = model.predict(test_x)"
   ]
  },
  {
   "cell_type": "code",
   "execution_count": 21,
   "metadata": {
    "ExecuteTime": {
     "end_time": "2020-12-03T11:13:30.341873Z",
     "start_time": "2020-12-03T11:13:30.297712Z"
    }
   },
   "outputs": [],
   "source": [
    "final = pd.DataFrame((zip(test['Product_id'],prediction)),columns=['Product_id','Selling_Price'])"
   ]
  },
  {
   "cell_type": "code",
   "execution_count": 22,
   "metadata": {
    "ExecuteTime": {
     "end_time": "2020-12-03T11:13:30.437507Z",
     "start_time": "2020-12-03T11:13:30.343907Z"
    }
   },
   "outputs": [],
   "source": [
    "final.to_csv('subf11.csv',index= False)"
   ]
  },
  {
   "cell_type": "code",
   "execution_count": 23,
   "metadata": {
    "ExecuteTime": {
     "end_time": "2020-12-03T11:13:30.515711Z",
     "start_time": "2020-12-03T11:13:30.440504Z"
    }
   },
   "outputs": [
    {
     "data": {
      "text/plain": [
       "array([], dtype=object)"
      ]
     },
     "execution_count": 23,
     "metadata": {},
     "output_type": "execute_result"
    }
   ],
   "source": [
    "np.intersect1d(data.Product_id, test.Product_id)"
   ]
  }
 ],
 "metadata": {
  "kernelspec": {
   "display_name": "Python 3",
   "language": "python",
   "name": "python3"
  },
  "language_info": {
   "codemirror_mode": {
    "name": "ipython",
    "version": 3
   },
   "file_extension": ".py",
   "mimetype": "text/x-python",
   "name": "python",
   "nbconvert_exporter": "python",
   "pygments_lexer": "ipython3",
   "version": "3.8.6"
  }
 },
 "nbformat": 4,
 "nbformat_minor": 4
}
