{
 "metadata": {
  "language_info": {
   "codemirror_mode": {
    "name": "ipython",
    "version": 3
   },
   "file_extension": ".py",
   "mimetype": "text/x-python",
   "name": "python",
   "nbconvert_exporter": "python",
   "pygments_lexer": "ipython3",
   "version": "3.8.6-final"
  },
  "orig_nbformat": 2,
  "kernelspec": {
   "name": "python3",
   "display_name": "Python 3.8.6 64-bit",
   "metadata": {
    "interpreter": {
     "hash": "ca2ce40f3a51f686c39dc322c9771bafaea02d8496fef06ffcaf5bb560596e5c"
    }
   }
  }
 },
 "nbformat": 4,
 "nbformat_minor": 2,
 "cells": [
  {
   "cell_type": "code",
   "execution_count": 1,
   "metadata": {},
   "outputs": [],
   "source": [
    "import pandas as pd \n",
    "import pickle"
   ]
  },
  {
   "cell_type": "code",
   "execution_count": 4,
   "metadata": {},
   "outputs": [],
   "source": [
    "test = pd.read_csv('test.csv')"
   ]
  },
  {
   "cell_type": "code",
   "execution_count": 8,
   "metadata": {},
   "outputs": [],
   "source": [
    "test.drop(['instock_date', 'Customer_name'], axis =1, inplace=True)"
   ]
  },
  {
   "cell_type": "code",
   "execution_count": 11,
   "metadata": {},
   "outputs": [],
   "source": [
    "test['Stall_no'].fillna(51, inplace=True)\n",
    "test['Stall_no'] = test['Stall_no'].astype(int)"
   ]
  },
  {
   "cell_type": "code",
   "execution_count": 15,
   "metadata": {},
   "outputs": [],
   "source": [
    "test['charges_1'].interpolate(method='linear', inplace=True)\n",
    "test['charges_1'] = test['charges_1'].astype(int)"
   ]
  },
  {
   "cell_type": "code",
   "execution_count": 16,
   "metadata": {},
   "outputs": [],
   "source": [
    "test['charges_2 (%)'].interpolate(method='slinear', inplace=True)\n",
    "test['charges_2 (%)'] = test['charges_2 (%)'].astype(int)"
   ]
  },
  {
   "cell_type": "code",
   "execution_count": 20,
   "metadata": {},
   "outputs": [],
   "source": [
    "test['Minimum_price'].interpolate(method='linear', inplace=True)"
   ]
  },
  {
   "cell_type": "code",
   "execution_count": 36,
   "metadata": {},
   "outputs": [],
   "source": [
    "names = ['Stall_no', 'Market_Category', 'Loyalty_customer', 'Product_Category', 'Grade', 'Discount_avail']\n",
    "test[names] = test[names].astype('category')"
   ]
  },
  {
   "cell_type": "code",
   "execution_count": 35,
   "metadata": {},
   "outputs": [],
   "source": [
    "test['Loyalty_customer'] = test['Loyalty_customer'].map({'Yes':1, 'No ':0})"
   ]
  },
  {
   "cell_type": "code",
   "execution_count": 42,
   "metadata": {},
   "outputs": [],
   "source": [
    "cat_name = test['Product_Category'].unique()\n",
    "cat_index = [i for i in range(len(cat_name))]\n",
    "cat_dc = dict(zip(cat_name,cat_index))\n",
    "# print(cat_dc)\n",
    "test['Product_Category'] = test['Product_Category'].map(cat_dc)"
   ]
  },
  {
   "cell_type": "code",
   "execution_count": 43,
   "metadata": {},
   "outputs": [],
   "source": [
    "Pkl_Filename = \"carnival_model.pkl\"  \n",
    "\n",
    "with open(Pkl_Filename, 'rb') as file:  \n",
    "    Pickled_LR_Model = pickle.load(file)"
   ]
  },
  {
   "cell_type": "code",
   "execution_count": 44,
   "metadata": {},
   "outputs": [
    {
     "output_type": "stream",
     "name": "stdout",
     "text": [
      "<class 'pandas.core.frame.DataFrame'>\nRangeIndex: 3430 entries, 0 to 3429\nData columns (total 12 columns):\n #   Column            Non-Null Count  Dtype   \n---  ------            --------------  -----   \n 0   Product_id        3430 non-null   object  \n 1   Stall_no          3430 non-null   category\n 2   Market_Category   3430 non-null   category\n 3   Loyalty_customer  3430 non-null   category\n 4   Product_Category  3430 non-null   category\n 5   Grade             3430 non-null   category\n 6   Demand            3430 non-null   int64   \n 7   Discount_avail    3430 non-null   category\n 8   charges_1         3430 non-null   int32   \n 9   charges_2 (%)     3430 non-null   int32   \n 10  Minimum_price     3430 non-null   float64 \n 11  Maximum_price     3430 non-null   int64   \ndtypes: category(6), float64(1), int32(2), int64(2), object(1)\nmemory usage: 173.0+ KB\n"
     ]
    }
   ],
   "source": [
    "test.info()"
   ]
  },
  {
   "cell_type": "code",
   "execution_count": 45,
   "metadata": {},
   "outputs": [],
   "source": [
    "x = test.iloc[:, 1:]"
   ]
  },
  {
   "cell_type": "code",
   "execution_count": 46,
   "metadata": {},
   "outputs": [
    {
     "output_type": "execute_result",
     "data": {
      "text/plain": [
       "  Stall_no Market_Category Loyalty_customer Product_Category Grade  Demand  \\\n",
       "0       39             205                0                0     0      90   \n",
       "1       49               3                1                0     0      87   \n",
       "2        1             183                0                1     2      55   \n",
       "3        8             358                1                2     3      86   \n",
       "4       33             167                0                1     0      27   \n",
       "\n",
       "  Discount_avail  charges_1  charges_2 (%)  Minimum_price  Maximum_price  \n",
       "0              0        380             16         2576.0           3340  \n",
       "1              0        393             16         1202.0           1955  \n",
       "2              0        493              9         7175.0          15715  \n",
       "3              0        303             16         5404.0          13078  \n",
       "4              0        567             16         4069.0           6244  "
      ],
      "text/html": "<div>\n<style scoped>\n    .dataframe tbody tr th:only-of-type {\n        vertical-align: middle;\n    }\n\n    .dataframe tbody tr th {\n        vertical-align: top;\n    }\n\n    .dataframe thead th {\n        text-align: right;\n    }\n</style>\n<table border=\"1\" class=\"dataframe\">\n  <thead>\n    <tr style=\"text-align: right;\">\n      <th></th>\n      <th>Stall_no</th>\n      <th>Market_Category</th>\n      <th>Loyalty_customer</th>\n      <th>Product_Category</th>\n      <th>Grade</th>\n      <th>Demand</th>\n      <th>Discount_avail</th>\n      <th>charges_1</th>\n      <th>charges_2 (%)</th>\n      <th>Minimum_price</th>\n      <th>Maximum_price</th>\n    </tr>\n  </thead>\n  <tbody>\n    <tr>\n      <th>0</th>\n      <td>39</td>\n      <td>205</td>\n      <td>0</td>\n      <td>0</td>\n      <td>0</td>\n      <td>90</td>\n      <td>0</td>\n      <td>380</td>\n      <td>16</td>\n      <td>2576.0</td>\n      <td>3340</td>\n    </tr>\n    <tr>\n      <th>1</th>\n      <td>49</td>\n      <td>3</td>\n      <td>1</td>\n      <td>0</td>\n      <td>0</td>\n      <td>87</td>\n      <td>0</td>\n      <td>393</td>\n      <td>16</td>\n      <td>1202.0</td>\n      <td>1955</td>\n    </tr>\n    <tr>\n      <th>2</th>\n      <td>1</td>\n      <td>183</td>\n      <td>0</td>\n      <td>1</td>\n      <td>2</td>\n      <td>55</td>\n      <td>0</td>\n      <td>493</td>\n      <td>9</td>\n      <td>7175.0</td>\n      <td>15715</td>\n    </tr>\n    <tr>\n      <th>3</th>\n      <td>8</td>\n      <td>358</td>\n      <td>1</td>\n      <td>2</td>\n      <td>3</td>\n      <td>86</td>\n      <td>0</td>\n      <td>303</td>\n      <td>16</td>\n      <td>5404.0</td>\n      <td>13078</td>\n    </tr>\n    <tr>\n      <th>4</th>\n      <td>33</td>\n      <td>167</td>\n      <td>0</td>\n      <td>1</td>\n      <td>0</td>\n      <td>27</td>\n      <td>0</td>\n      <td>567</td>\n      <td>16</td>\n      <td>4069.0</td>\n      <td>6244</td>\n    </tr>\n  </tbody>\n</table>\n</div>"
     },
     "metadata": {},
     "execution_count": 46
    }
   ],
   "source": [
    "x.head()"
   ]
  },
  {
   "cell_type": "code",
   "execution_count": 47,
   "metadata": {},
   "outputs": [],
   "source": [
    "pred = Pickled_LR_Model.predict(x)"
   ]
  },
  {
   "cell_type": "code",
   "execution_count": null,
   "metadata": {},
   "outputs": [],
   "source": [
    "pred"
   ]
  },
  {
   "cell_type": "code",
   "execution_count": null,
   "metadata": {},
   "outputs": [],
   "source": []
  }
 ]
}